{
 "cells": [
  {
   "cell_type": "code",
   "execution_count": null,
   "metadata": {},
   "outputs": [],
   "source": [
    "import pandas as pd\n",
    "import numpy as np\n",
    "import matplotlib.pyplot as plt\n",
    "import seaborn as sns\n",
    "from funpymodeling.exploratory import freq_tbl \n",
    "import re"
   ]
  },
  {
   "cell_type": "code",
   "execution_count": null,
   "metadata": {},
   "outputs": [],
   "source": [
    "dfp=pd.read_csv(\"listingsPorto.csv\")\n",
    "dfa=pd.read_csv(\"listingsAmsterdam.csv\")"
   ]
  },
  {
   "cell_type": "markdown",
   "metadata": {},
   "source": [
    "***AMSTERDAM***"
   ]
  },
  {
   "cell_type": "code",
   "execution_count": null,
   "metadata": {},
   "outputs": [],
   "source": [
    "dfa.head(5)\n",
    "dfa.dtypes"
   ]
  },
  {
   "cell_type": "code",
   "execution_count": null,
   "metadata": {},
   "outputs": [],
   "source": [
    "#Se eliminan los valores nulos\n",
    "dfa.isnull().sum()\n",
    "dfa=dfa.fillna(method='ffill')\n",
    "dfa=dfa.fillna(method='bfill')"
   ]
  },
  {
   "cell_type": "code",
   "execution_count": null,
   "metadata": {},
   "outputs": [],
   "source": [
    "#Como no funciono el bfill y ffill usamos el metodo de sustituir por una palabra \n",
    "dfa1=dfa.fillna('nulos')\n",
    "dfa1.info()\n",
    "dfa1.isnull().sum().sum()"
   ]
  },
  {
   "cell_type": "code",
   "execution_count": null,
   "metadata": {},
   "outputs": [],
   "source": [
    "#Reemplazamos el $ en la columna price para que se vuelva numerica \n",
    "dfa1['price'] = dfa1['price'].str.replace('$', '', regex=False)\n",
    "dfa1['price'] = dfa1['price'].str.replace(',', '', regex=False)\n",
    "dfa1['price'] = pd.to_numeric(dfa1['price'])"
   ]
  },
  {
   "cell_type": "code",
   "execution_count": null,
   "metadata": {},
   "outputs": [],
   "source": [
    "dfa1['price']"
   ]
  },
  {
   "cell_type": "code",
   "execution_count": null,
   "metadata": {},
   "outputs": [],
   "source": [
    "#Se separan las columnas por cualitativas y cuantitativas\n",
    "numcol=dfa1.select_dtypes(include=['number'])\n",
    "catcolsinfiltrar=dfa1.select_dtypes(include=['object'])"
   ]
  },
  {
   "cell_type": "code",
   "execution_count": null,
   "metadata": {},
   "outputs": [],
   "source": [
    "#Se seleccionan las variables solicitadas \n",
    "catcol=catcolsinfiltrar[['host_response_time','host_acceptance_rate','property_type','room_type','amenities','host_is_superhost']]"
   ]
  },
  {
   "cell_type": "code",
   "execution_count": null,
   "metadata": {},
   "outputs": [],
   "source": [
    "#Se procesan los datos nulos de las varibales numericas \n",
    "numcol.isnull().sum().sum()\n",
    "numcol=numcol.fillna(method='ffill')\n",
    "numcol=numcol.fillna(method='bfill')"
   ]
  },
  {
   "cell_type": "code",
   "execution_count": null,
   "metadata": {},
   "outputs": [],
   "source": [
    "#Comprobamos los valores faltantes nuevamente \n",
    "numcol.isnull().sum().sum()"
   ]
  },
  {
   "cell_type": "code",
   "execution_count": null,
   "metadata": {},
   "outputs": [],
   "source": [
    "numcol_sinid=numcol.drop(['id','host_id','scrape_id'],axis=1)"
   ]
  },
  {
   "cell_type": "code",
   "execution_count": null,
   "metadata": {},
   "outputs": [],
   "source": [
    "#Obtenemos los limites superior e inferior de todas las variables numericas\n",
    "#Realizamos diagrama de caja o bigote de cada columna del dataframe\n",
    "fig = plt.figure(figsize =(15, 8))\n",
    "numcol_sinid.plot(kind='box', vert=False)\n",
    "plt.title(\"Valores Atípicos del Dataframe\")\n",
    "plt.show() "
   ]
  },
  {
   "cell_type": "code",
   "execution_count": null,
   "metadata": {},
   "outputs": [],
   "source": [
    "#Método aplicando desviación estandar. Encuentro los valores extremos\n",
    "y=numcol_sinid\n",
    "Limite_Superior= y.mean() + 3*y.std()\n",
    "Limite_Inferior= y.mean() - 3*y.std()\n",
    "print(\"Limite superior permitido\", Limite_Superior)\n",
    "print(\"Limite inferior permitido\", Limite_Inferior)"
   ]
  },
  {
   "cell_type": "code",
   "execution_count": null,
   "metadata": {},
   "outputs": [],
   "source": [
    "#Obtenemos datos y los outliers se convierten en nulos en el DataFrame\n",
    "numcol_outliers= numcol_sinid[(y<=Limite_Superior)&(y>=Limite_Inferior)]\n",
    "numcol_outliers"
   ]
  },
  {
   "cell_type": "code",
   "execution_count": null,
   "metadata": {},
   "outputs": [],
   "source": [
    "#Comprobamos los valores atipicos que se volvieron nulos \n",
    "numcol_outliers.isnull().sum()"
   ]
  },
  {
   "cell_type": "code",
   "execution_count": null,
   "metadata": {},
   "outputs": [],
   "source": [
    "#Reemplazamos valores atípicos (nulos) del dataframe con \"mean\"\n",
    "#Realizamos una copia del dataframe\n",
    "numcol_clean=numcol_outliers.copy()\n",
    "numcol_clean=numcol_clean.fillna(round(numcol_outliers.mean(),1))\n",
    "numcol_clean"
   ]
  },
  {
   "cell_type": "code",
   "execution_count": null,
   "metadata": {},
   "outputs": [],
   "source": [
    "#Corroboramos valores nulos del dataframe LIMPIO\n",
    "numcol_clean.isnull().sum().sum()"
   ]
  },
  {
   "cell_type": "code",
   "execution_count": null,
   "metadata": {},
   "outputs": [],
   "source": [
    "freq_tbl(catcol)\n",
    "catcol.columns"
   ]
  },
  {
   "cell_type": "code",
   "execution_count": null,
   "metadata": {},
   "outputs": [],
   "source": [
    "# Limitar numero máximo de filas\n",
    "pd.options.display.max_rows = None"
   ]
  },
  {
   "cell_type": "code",
   "execution_count": null,
   "metadata": {},
   "outputs": [],
   "source": [
    "#Obtenemos un análisis univariado de las diferentes variables\n",
    "table1= freq_tbl(catcol['amenities'])\n",
    "table2= freq_tbl(catcol['host_acceptance_rate']) #ind ind\n",
    "table3= freq_tbl(catcol['host_is_superhost'])  \n",
    "table4= freq_tbl(catcol['host_response_time']) #dep ind\n",
    "table5= freq_tbl(catcol['property_type'])\n",
    "table6= freq_tbl(catcol['room_type'])\n",
    "table1\n",
    "table2\n",
    "table3\n",
    "table4\n",
    "table5\n",
    "table6"
   ]
  },
  {
   "cell_type": "code",
   "execution_count": null,
   "metadata": {},
   "outputs": [],
   "source": [
    "table1.amenities = table1.amenities.replace({'[\"Smoke alarm\", \"Washer\", \"Wifi\", \"TV\", \"Kitchen\"]':'Amenidades 1'}, regex=False)\n",
    "table1.amenities = table1.amenities.replace({'[\"Iron\", \"Paid parking on premises\", \"Air conditioning\", \"Smoke alarm\", \"Dedicated workspace\", \"Luggage dropoff allowed\", \"Wifi\", \"Hot water\", \"Essentials\", \"Heating\", \"Shampoo\", \"TV\"]':'Amenidades 2'}, regex=False)\n",
    "table1.amenities = table1.amenities.replace({r'[\"Iron\", \"Shampoo\", \"Hot water kettle\", \"Exterior security cameras on property\", \"Paid parking off premises\", \"Extra pillows and blankets\", \"Shower gel\", \"Paid washer \\u2013 In building\", \"Body soap\", \"Paid dryer \\u2013 In building\", \"Hangers\", \"Dedicated workspace\", \"First aid kit\", \"Host greets you\", \"Bed linens\", \"TV\", \"Conditioner\", \"Breakfast\", \"Mini fridge\", \"Luggage dropoff allowed\", \"Safe\", \"Waterfront\", \"Portable fans\", \"Hair dryer\", \"Smoke alarm\", \"Clothing storage\", \"Refrigerator\", \"Shared patio or balcony\", \"Wifi\", \"Hot water\", \"Coffee maker\", \"Essentials\", \"Heating\", \"Fire extinguisher\"]':'Amenidades 3'}, regex=False)\n",
    "table1.amenities = table1.amenities.replace({'[\"Iron\", \"Shampoo\", \"Paid parking on premises\", \"Extra pillows and blankets\", \"Stove\", \"Hangers\", \"Dedicated workspace\", \"Carbon monoxide alarm\", \"First aid kit\", \"Self check-in\", \"Bed linens\", \"TV\", \"Microwave\", \"Washer\", \"Luggage dropoff allowed\", \"Oven\", \"Cooking basics\", \"Dishwasher\", \"Air conditioning\", \"Smoke alarm\", \"Dryer\", \"Wifi\", \"Hot water\", \"Coffee maker\", \"Essentials\", \"Heating\", \"Fire extinguisher\", \"Building staff\", \"Gym\", \"Dishes and silverware\", \"Kitchen\"]':'Amenidades 4'}, regex=False)\n"
   ]
  },
  {
   "cell_type": "code",
   "execution_count": null,
   "metadata": {},
   "outputs": [],
   "source": [
    "#Creamos un filtro de los valores más reelevantes de la variables categórica seleccionada\n",
    "\n",
    "Filtro= table1[table1['frequency']>7]\n",
    "Filtro\n",
    "#Ajustamos el indice de mi dataframe\n",
    "Filtro_index1= Filtro.set_index('amenities')\n",
    "Filtro_index1\n",
    "#Eliminamos las columnas de \"percentage\" y \"cumulative_perc\"\n",
    "Filtro_index_frequency1= Filtro_index1.drop(['percentage','cumulative_perc'], axis=1)\n",
    "Filtro_index_frequency1"
   ]
  },
  {
   "cell_type": "code",
   "execution_count": null,
   "metadata": {},
   "outputs": [],
   "source": [
    "Filtro_index_frequency1.plot(kind = 'bar', width=0.8, figsize=(8,4),color='orchid')\n",
    "plt.title('Herramientas de relación con los clientes')\n",
    "plt.xlabel('Tipo de Herramienta')\n",
    "plt.ylabel('Frecuencia')"
   ]
  },
  {
   "cell_type": "code",
   "execution_count": null,
   "metadata": {},
   "outputs": [],
   "source": [
    "#Creamos un filtro de los valores más reelevantes de la variables categórica seleccionada porcentaje de aceptacion de arrendador\n",
    "\n",
    "Filtro= table2[table2['frequency']>281]\n",
    "Filtro\n",
    "#Ajustamos el indice de mi dataframe\n",
    "Filtro_index2= Filtro.set_index('host_acceptance_rate')\n",
    "Filtro_index2\n",
    "#Eliminamos las columnas de \"percentage\" y \"cumulative_perc\"\n",
    "Filtro_index_frequency2= Filtro_index2.drop(['percentage','cumulative_perc'], axis=1)\n",
    "Filtro_index_frequency2"
   ]
  },
  {
   "cell_type": "code",
   "execution_count": null,
   "metadata": {},
   "outputs": [],
   "source": [
    "#Realizamos grafico de pastel del dataframe filtrado\n",
    "Filtro_index2[\"frequency\"].plot(kind='pie', figsize=(10,5), shadow=True, autopct=\"%0.1f%%\")\n"
   ]
  },
  {
   "cell_type": "code",
   "execution_count": null,
   "metadata": {},
   "outputs": [],
   "source": [
    "#Creamos un filtro de los valores más reelevantes de la variables categórica seleccionada\n",
    "\n",
    "Filtro= table3[table3['frequency']>7]\n",
    "Filtro\n",
    "#Ajustamos el indice de mi dataframe\n",
    "Filtro_index3= Filtro.set_index('host_is_superhost')\n",
    "Filtro_index3\n",
    "#Eliminamos las columnas de \"percentage\" y \"cumulative_perc\"\n",
    "Filtro_index_frequency3= Filtro_index3.drop(['percentage','cumulative_perc'], axis=1)\n",
    "Filtro_index_frequency3"
   ]
  },
  {
   "cell_type": "code",
   "execution_count": null,
   "metadata": {},
   "outputs": [],
   "source": [
    "#Realizamos grafico de barras del dataframe filtrado\n",
    "Filtro_index_frequency3.plot(kind = 'bar', width=0.8, figsize=(8,4),color='red')\n",
    "plt.title('Anfitrión es Super Anfitrión')\n",
    "plt.xlabel('Tipo de Herramienta')\n",
    "plt.ylabel('Frecuencia')"
   ]
  },
  {
   "cell_type": "code",
   "execution_count": null,
   "metadata": {},
   "outputs": [],
   "source": [
    "#Creamos un filtro de los valores más reelevantes de la variables categórica seleccionada\n",
    "\n",
    "Filtro= table4[table4['frequency']>1]\n",
    "Filtro\n",
    "#Ajustamos el indice de mi dataframe\n",
    "Filtro_index4= Filtro.set_index('host_response_time')\n",
    "Filtro_index4\n",
    "#Eliminamos las columnas de \"percentage\" y \"cumulative_perc\"\n",
    "Filtro_index_frequency4= Filtro_index4.drop(['percentage','cumulative_perc'], axis=1)\n",
    "Filtro_index_frequency4"
   ]
  },
  {
   "cell_type": "code",
   "execution_count": null,
   "metadata": {},
   "outputs": [],
   "source": [
    "\n",
    "#Realizamos grafico de área del dataframe filtrado\n",
    "Filtro_index_frequency4.plot(kind='area', figsize=(10,4),alpha = 0.5,color='green')"
   ]
  },
  {
   "cell_type": "code",
   "execution_count": null,
   "metadata": {},
   "outputs": [],
   "source": [
    "#Creamos un filtro de los valores más reelevantes de la variables categórica seleccionada\n",
    "\n",
    "Filtro= table5[table5['frequency']>100]\n",
    "Filtro\n",
    "#Ajustamos el indice de mi dataframe\n",
    "Filtro_index5= Filtro.set_index('property_type')\n",
    "Filtro_index5\n",
    "#Eliminamos las columnas de \"percentage\" y \"cumulative_perc\"\n",
    "Filtro_index_frequency5= Filtro_index5.drop(['percentage','cumulative_perc'], axis=1)\n",
    "Filtro_index_frequency5"
   ]
  },
  {
   "cell_type": "code",
   "execution_count": null,
   "metadata": {},
   "outputs": [],
   "source": [
    "#Realizamos grafico de barras del dataframe filtrado\n",
    "Filtro_index_frequency5.plot(kind = 'bar', width=0.8, figsize=(8,4),color='powderblue')\n",
    "plt.title('Tipo de Propiedad')\n",
    "plt.xlabel('Tipo de Herramienta')\n",
    "plt.ylabel('Frecuencia')\n"
   ]
  },
  {
   "cell_type": "code",
   "execution_count": null,
   "metadata": {},
   "outputs": [],
   "source": [
    "#Creamos un filtro de los valores más reelevantes de la variables categórica seleccionada\n",
    "\n",
    "Filtro= table6[table6['frequency']>1]\n",
    "Filtro\n",
    "#Ajustamos el indice de mi dataframe\n",
    "Filtro_index6= Filtro.set_index('room_type')\n",
    "Filtro_index6\n",
    "#Eliminamos las columnas de \"percentage\" y \"cumulative_perc\"\n",
    "Filtro_index_frequency6= Filtro_index6.drop(['percentage','cumulative_perc'], axis=1)\n",
    "Filtro_index_frequency6"
   ]
  },
  {
   "cell_type": "code",
   "execution_count": null,
   "metadata": {},
   "outputs": [],
   "source": [
    "#Realizamos grafico de área del dataframe filtrado\n",
    "Filtro_index_frequency6.plot(kind='area', figsize=(10,4),alpha = 0.5,color=\"orange\")"
   ]
  },
  {
   "cell_type": "code",
   "execution_count": null,
   "metadata": {},
   "outputs": [],
   "source": [
    "# Unimos los otros data frame para ver que esten limpios\n",
    "\n",
    "dfa_limpio = pd.concat([numcol_clean,numcol,catcol], axis=1)\n",
    "dfa_limpio.head(3)"
   ]
  },
  {
   "cell_type": "code",
   "execution_count": null,
   "metadata": {},
   "outputs": [],
   "source": [
    "dfa_limpio.isnull().sum().sum()"
   ]
  },
  {
   "cell_type": "markdown",
   "metadata": {},
   "source": [
    "***Procedemos a trabajar con Porto***"
   ]
  },
  {
   "cell_type": "code",
   "execution_count": null,
   "metadata": {},
   "outputs": [],
   "source": [
    "dfp.head(5)\n",
    "dfp.dtypes"
   ]
  },
  {
   "cell_type": "code",
   "execution_count": null,
   "metadata": {},
   "outputs": [],
   "source": [
    "#Se eliminan los valores nulos\n",
    "dfp.isnull().sum()\n",
    "dfp=dfp.fillna(method='ffill')\n",
    "dfp=dfp.fillna(method='bfill')"
   ]
  },
  {
   "cell_type": "code",
   "execution_count": null,
   "metadata": {},
   "outputs": [],
   "source": [
    "#Como no funciono el bfill y ffill usamos el metodo de sustituir por una palabra \n",
    "dfp1=dfp.fillna('nulos')\n",
    "dfp1.info()\n",
    "dfp1.isnull().sum().sum()"
   ]
  },
  {
   "cell_type": "code",
   "execution_count": null,
   "metadata": {},
   "outputs": [],
   "source": [
    "#Reemplazamos el $ en la columna price para que se vuelva numerica \n",
    "dfp1['price'] = dfp1['price'].str.replace('$', '', regex=False)\n",
    "dfp1['price'] = dfp1['price'].str.replace(',', '', regex=False)\n",
    "dfp1['price'] = pd.to_numeric(dfa1['price'])"
   ]
  },
  {
   "cell_type": "code",
   "execution_count": null,
   "metadata": {},
   "outputs": [],
   "source": [
    "dfp1['price']"
   ]
  },
  {
   "cell_type": "code",
   "execution_count": null,
   "metadata": {},
   "outputs": [],
   "source": [
    "#Se separan las columnas por cualitativas y cuantitativas\n",
    "numcolp=dfp1.select_dtypes(include=['number'])\n",
    "catcolsinfiltrarp=dfp1.select_dtypes(include=['object'])"
   ]
  },
  {
   "cell_type": "code",
   "execution_count": null,
   "metadata": {},
   "outputs": [],
   "source": [
    "#Se seleccionan las variables solicitadas \n",
    "catcolp=catcolsinfiltrarp[['host_response_time','host_acceptance_rate','property_type','room_type','amenities','host_is_superhost']]"
   ]
  },
  {
   "cell_type": "code",
   "execution_count": null,
   "metadata": {},
   "outputs": [],
   "source": [
    "#Se procesan los datos nulos de las varibales numericas \n",
    "numcolp.isnull().sum().sum()\n",
    "numcolp=numcolp.fillna(method='ffill')\n",
    "numcolp=numcolp.fillna(method='bfill')"
   ]
  },
  {
   "cell_type": "code",
   "execution_count": null,
   "metadata": {},
   "outputs": [],
   "source": [
    "#Comprobamos los valores faltantes nuevamente \n",
    "numcolp.isnull().sum().sum()"
   ]
  },
  {
   "cell_type": "code",
   "execution_count": null,
   "metadata": {},
   "outputs": [],
   "source": [
    "numcolp_sinid=numcolp.drop(['id','host_id','scrape_id'],axis=1)"
   ]
  },
  {
   "cell_type": "code",
   "execution_count": null,
   "metadata": {},
   "outputs": [],
   "source": [
    "#Obtenemos los limites superior e inferior de todas las variables numericas\n",
    "#Realizamos diagrama de caja o bigote de cada columna del dataframe\n",
    "fig = plt.figure(figsize =(15, 8))\n",
    "numcolp_sinid.plot(kind='box', vert=False)\n",
    "plt.title(\"Valores Atípicos del Dataframe\")\n",
    "plt.show() "
   ]
  },
  {
   "cell_type": "code",
   "execution_count": null,
   "metadata": {},
   "outputs": [],
   "source": [
    "#Método aplicando desviación estandar. Encuentro los valores extremos\n",
    "y=numcolp_sinid\n",
    "Limite_Superiorp= y.mean() + 3*y.std()\n",
    "Limite_Inferiorp= y.mean() - 3*y.std()\n",
    "print(\"Limite superior permitido\", Limite_Superior)\n",
    "print(\"Limite inferior permitido\", Limite_Inferior)"
   ]
  },
  {
   "cell_type": "code",
   "execution_count": null,
   "metadata": {},
   "outputs": [],
   "source": [
    "#Obtenemos datos y los outliers se convierten en nulos en el DataFrame\n",
    "pnumcol_outliers= numcolp_sinid[(y<=Limite_Superiorp)&(y>=Limite_Inferiorp)]\n",
    "pnumcol_outliers"
   ]
  },
  {
   "cell_type": "code",
   "execution_count": null,
   "metadata": {},
   "outputs": [],
   "source": [
    "#Comprobamos los valores atipicos que se volvieron nulos \n",
    "pnumcol_outliers.isnull().sum()"
   ]
  },
  {
   "cell_type": "code",
   "execution_count": null,
   "metadata": {},
   "outputs": [],
   "source": [
    "#Reemplazamos valores atípicos (nulos) del dataframe con \"mean\"\n",
    "#Realizamos una copia del dataframe\n",
    "pnumcol_clean=pnumcol_outliers.copy()\n",
    "pnumcol_clean=pnumcol_clean.fillna(round(pnumcol_outliers.mean(),1))\n",
    "pnumcol_clean"
   ]
  },
  {
   "cell_type": "code",
   "execution_count": null,
   "metadata": {},
   "outputs": [],
   "source": [
    "#Corroboramos valores nulos del dataframe LIMPIO\n",
    "pnumcol_clean.isnull().sum().sum()"
   ]
  },
  {
   "cell_type": "code",
   "execution_count": null,
   "metadata": {},
   "outputs": [],
   "source": [
    "freq_tbl(catcolp)\n",
    "catcolp.columns"
   ]
  },
  {
   "cell_type": "code",
   "execution_count": null,
   "metadata": {},
   "outputs": [],
   "source": [
    "# Limitar numero máximo de filas\n",
    "pd.options.display.max_rows = None"
   ]
  },
  {
   "cell_type": "code",
   "execution_count": null,
   "metadata": {},
   "outputs": [],
   "source": [
    "#Obtenemos un análisis univariado de las diferentes variables\n",
    "table1p= freq_tbl(catcolp['amenities'])\n",
    "table2p= freq_tbl(catcolp['host_acceptance_rate'])\n",
    "table3p= freq_tbl(catcolp['host_is_superhost'])\n",
    "table4p= freq_tbl(catcolp['host_response_time'])\n",
    "table5p= freq_tbl(catcolp['property_type'])\n",
    "table6p= freq_tbl(catcolp['room_type'])\n",
    "table1p\n",
    "table2p\n",
    "table3p\n",
    "table4p\n",
    "table5p\n",
    "table6p"
   ]
  },
  {
   "cell_type": "code",
   "execution_count": null,
   "metadata": {},
   "outputs": [],
   "source": [
    "table1p.amenities = table1p.amenities.replace({'[\"Hair dryer\", \"Kitchen\", \"Free parking on premises\", \"Outdoor dining area\", \"Wifi\", \"Dedicated workspace\", \"Washer\", \"Smoke alarm\", \"BBQ grill\", \"TV\", \"Heating\", \"Fire extinguisher\", \"Cooking basics\", \"First aid kit\", \"Carbon monoxide alarm\"]':'Amenidades 2'}, regex=False)\n",
    "table1p.amenities = table1p.amenities.replace({'[\"Hair dryer\", \"Essentials\", \"Kitchen\", \"Outdoor dining area\", \"Wifi\", \"Dedicated workspace\", \"Smoke alarm\", \"Iron\", \"TV\", \"Exterior security cameras on property\", \"Hangers\", \"Air conditioning\", \"Heating\", \"Fire extinguisher\", \"First aid kit\", \"Long term stays allowed\", \"Carbon monoxide alarm\", \"Hot water\", \"Luggage dropoff allowed\"]':'Amenidades 2'}, regex=False)\n",
    "table1p.amenities = table1p.amenities.replace({'[\"Lockbox\", \"Fire extinguisher\", \"First aid kit\", \"Refrigerator\", \"Dishes and silverware\", \"Hot water kettle\", \"TV\", \"Stove\", \"Kitchen\", \"Essentials\", \"Microwave\", \"Shampoo\", \"Cooking basics\", \"Coffee maker\", \"Wifi\", \"Hair dryer\", \"Hangers\", \"Air conditioning\", \"Long term stays allowed\", \"Hot water\", \"Self check-in\"]':'Amenidades 3'}, regex=False)\n"
   ]
  },
  {
   "cell_type": "code",
   "execution_count": null,
   "metadata": {},
   "outputs": [],
   "source": [
    "#Creamos un filtro de los valores más reelevantes de la variables categórica seleccionada\n",
    "\n",
    "Filtrop= table1p[table1p['frequency']>17]\n",
    "Filtrop\n",
    "#Ajustamos el indice de mi dataframe\n",
    "Filtro_index1p= Filtrop.set_index('amenities')\n",
    "Filtro_index1p\n",
    "#Eliminamos las columnas de \"percentage\" y \"cumulative_perc\"\n",
    "Filtro_index_frequency1p= Filtro_index1p.drop(['percentage','cumulative_perc'], axis=1)\n",
    "Filtro_index_frequency1p"
   ]
  },
  {
   "cell_type": "code",
   "execution_count": null,
   "metadata": {},
   "outputs": [],
   "source": [
    "Filtro_index_frequency1p.plot(kind = 'bar', width=0.8, figsize=(8,4),color='orchid')\n",
    "plt.title('Herramientas de relación con los clientes')\n",
    "plt.xlabel('Tipo de Herramienta')\n",
    "plt.ylabel('Frecuencia')"
   ]
  },
  {
   "cell_type": "code",
   "execution_count": null,
   "metadata": {},
   "outputs": [],
   "source": [
    "#Creamos un filtro de los valores más reelevantes de la variables categórica seleccionada porcentaje de aceptacion de arrendador\n",
    "\n",
    "Filtro10= table2p[table2p['frequency']>281]\n",
    "Filtro10\n",
    "#Ajustamos el indice de mi dataframe\n",
    "Filtro_index20= Filtro10.set_index('host_acceptance_rate')\n",
    "Filtro_index20\n",
    "#Eliminamos las columnas de \"percentage\" y \"cumulative_perc\"\n",
    "Filtro_index_frequency20= Filtro_index20.drop(['percentage','cumulative_perc'], axis=1)\n",
    "Filtro_index_frequency20"
   ]
  },
  {
   "cell_type": "code",
   "execution_count": null,
   "metadata": {},
   "outputs": [],
   "source": [
    "#Realizamos grafico de pastel del dataframe filtrado\n",
    "Filtro_index20[\"frequency\"].plot(kind='pie', figsize=(10,5), shadow=True, autopct=\"%0.1f%%\")\n"
   ]
  },
  {
   "cell_type": "code",
   "execution_count": null,
   "metadata": {},
   "outputs": [],
   "source": [
    "#Creamos un filtro de los valores más reelevantes de la variables categórica seleccionada\n",
    "\n",
    "Filtro20= table3p[table3p['frequency']>7]\n",
    "Filtro20\n",
    "#Ajustamos el indice de mi dataframe\n",
    "Filtro_index30= Filtro20.set_index('host_is_superhost')\n",
    "Filtro_index30\n",
    "#Eliminamos las columnas de \"percentage\" y \"cumulative_perc\"\n",
    "Filtro_index_frequency30= Filtro_index30.drop(['percentage','cumulative_perc'], axis=1)\n",
    "Filtro_index_frequency30"
   ]
  },
  {
   "cell_type": "code",
   "execution_count": null,
   "metadata": {},
   "outputs": [],
   "source": [
    "#Realizamos grafico de barras del dataframe filtrado\n",
    "Filtro_index_frequency30.plot(kind = 'bar', width=0.8, figsize=(8,4),color='red')\n",
    "plt.title('Anfitrión es Super Anfitrión')\n",
    "plt.xlabel('Tipo de Herramienta')\n",
    "plt.ylabel('Frecuencia')"
   ]
  },
  {
   "cell_type": "code",
   "execution_count": null,
   "metadata": {},
   "outputs": [],
   "source": [
    "#Creamos un filtro de los valores más reelevantes de la variables categórica seleccionada\n",
    "\n",
    "Filtro03= table4p[table4p['frequency']>1]\n",
    "Filtro03\n",
    "#Ajustamos el indice de mi dataframe\n",
    "Filtro_index40= Filtro03.set_index('host_response_time')\n",
    "Filtro_index40\n",
    "#Eliminamos las columnas de \"percentage\" y \"cumulative_perc\"\n",
    "Filtro_index_frequency40= Filtro_index40.drop(['percentage','cumulative_perc'], axis=1)\n",
    "Filtro_index_frequency40"
   ]
  },
  {
   "cell_type": "code",
   "execution_count": null,
   "metadata": {},
   "outputs": [],
   "source": [
    "\n",
    "#Realizamos grafico de área del dataframe filtrado\n",
    "Filtro_index_frequency40.plot(kind='area', figsize=(10,4),alpha = 0.5,color='green')\n"
   ]
  },
  {
   "cell_type": "code",
   "execution_count": null,
   "metadata": {},
   "outputs": [],
   "source": [
    "#Creamos un filtro de los valores más reelevantes de la variables categórica seleccionada\n",
    "\n",
    "Filtro04= table5p[table5p['frequency']>100]\n",
    "Filtro04\n",
    "#Ajustamos el indice de mi dataframe\n",
    "Filtro_index50= Filtro04.set_index('property_type')\n",
    "Filtro_index50\n",
    "#Eliminamos las columnas de \"percentage\" y \"cumulative_perc\"\n",
    "Filtro_index_frequency50= Filtro_index50.drop(['percentage','cumulative_perc'], axis=1)\n",
    "Filtro_index_frequency50"
   ]
  },
  {
   "cell_type": "code",
   "execution_count": null,
   "metadata": {},
   "outputs": [],
   "source": [
    "#Realizamos grafico de barras del dataframe filtrado\n",
    "Filtro_index_frequency50.plot(kind = 'bar', width=0.8, figsize=(8,4),color='powderblue')\n",
    "plt.title('Tipo de Propiedad')\n",
    "plt.xlabel('Tipo de Herramienta')\n",
    "plt.ylabel('Frecuencia')\n"
   ]
  },
  {
   "cell_type": "code",
   "execution_count": null,
   "metadata": {},
   "outputs": [],
   "source": [
    "#Creamos un filtro de los valores más reelevantes de la variables categórica seleccionada\n",
    "\n",
    "Filtro05= table6p[table6p['frequency']>1]\n",
    "Filtro05\n",
    "#Ajustamos el indice de mi dataframe\n",
    "Filtro_index60= Filtro05.set_index('room_type')\n",
    "Filtro_index60\n",
    "#Eliminamos las columnas de \"percentage\" y \"cumulative_perc\"\n",
    "Filtro_index_frequency60= Filtro_index60.drop(['percentage','cumulative_perc'], axis=1)\n",
    "Filtro_index_frequency60"
   ]
  },
  {
   "cell_type": "code",
   "execution_count": null,
   "metadata": {},
   "outputs": [],
   "source": [
    "#Realizamos grafico de área del dataframe filtrado\n",
    "Filtro_index_frequency60.plot(kind='area', figsize=(10,4),alpha = 0.5,color=\"orange\")"
   ]
  },
  {
   "cell_type": "code",
   "execution_count": null,
   "metadata": {},
   "outputs": [],
   "source": [
    "# Unimos los otros data frame para ver que esten limpios\n",
    "dfp_limpio = pd.concat([pnumcol_clean,numcolp,catcolp], axis=1)\n",
    "dfp_limpio.head(3)"
   ]
  },
  {
   "cell_type": "code",
   "execution_count": null,
   "metadata": {},
   "outputs": [],
   "source": [
    "dfp_limpio.isnull().sum().sum()"
   ]
  },
  {
   "cell_type": "markdown",
   "metadata": {},
   "source": [
    "**Análisis de Regresión**"
   ]
  },
  {
   "cell_type": "markdown",
   "metadata": {},
   "source": [
    "Amsterdam"
   ]
  },
  {
   "cell_type": "code",
   "execution_count": null,
   "metadata": {},
   "outputs": [],
   "source": [
    "#Imprimimos el scatter plot entre la variable dependiente e independiente\n",
    "#para observar el comportamiento en su dispersión \n",
    "sns.scatterplot(x='bedrooms', y='price', color=\"blue\", data=numcol_clean)\n"
   ]
  },
  {
   "cell_type": "code",
   "execution_count": null,
   "metadata": {},
   "outputs": [],
   "source": [
    "sns.scatterplot(x='review_scores_rating', y='price', color=\"blue\", data=numcol_clean)"
   ]
  },
  {
   "cell_type": "code",
   "execution_count": null,
   "metadata": {},
   "outputs": [],
   "source": [
    "#Declaramos las variables dependientes e independientes para la regresión lineal\n",
    "Vars_Indep= numcol_clean[['bedrooms']]\n",
    "Var_Dep= numcol_clean['price']"
   ]
  },
  {
   "cell_type": "code",
   "execution_count": null,
   "metadata": {},
   "outputs": [],
   "source": [
    "#Declaramos las variables dependientes e independientes para la regresión lineal\n",
    "Vars_Indep2= numcol_clean[['maximum_nights']]\n",
    "Var_Dep2= numcol_clean['price']"
   ]
  },
  {
   "cell_type": "code",
   "execution_count": null,
   "metadata": {},
   "outputs": [],
   "source": [
    "#Declaramos las variables dependientes e independientes para la regresión lineal\n",
    "Vars_Indep3= numcol_clean[['review_scores_rating']]\n",
    "Var_Dep3= numcol_clean['price']"
   ]
  },
  {
   "cell_type": "code",
   "execution_count": null,
   "metadata": {},
   "outputs": [],
   "source": [
    "#Se define model como la función de regresión lineal\n",
    "from sklearn.linear_model import LinearRegression\n",
    "model= LinearRegression()\n",
    "model2 = LinearRegression()\n",
    "model3 = LinearRegression()"
   ]
  },
  {
   "cell_type": "code",
   "execution_count": null,
   "metadata": {},
   "outputs": [],
   "source": [
    "#Verificamos la función relacionada al modelo\n",
    "type(model)\n",
    "type(model2)\n",
    "type(model3)"
   ]
  },
  {
   "cell_type": "code",
   "execution_count": null,
   "metadata": {},
   "outputs": [],
   "source": [
    "#Ajustamos el modelo con las variables antes declaradas\n",
    "model.fit(X=Vars_Indep, y=Var_Dep)"
   ]
  },
  {
   "cell_type": "code",
   "execution_count": null,
   "metadata": {},
   "outputs": [],
   "source": [
    "#Ajustamos el modelo con las variables antes declaradas\n",
    "model2.fit(X=Vars_Indep2, y=Var_Dep2)"
   ]
  },
  {
   "cell_type": "code",
   "execution_count": null,
   "metadata": {},
   "outputs": [],
   "source": [
    "#Ajustamos el modelo con las variables antes declaradas\n",
    "model3.fit(X=Vars_Indep3, y=Var_Dep3)"
   ]
  },
  {
   "cell_type": "code",
   "execution_count": null,
   "metadata": {},
   "outputs": [],
   "source": [
    "#Verificamos los coeficientes obtenidos para el modelo ajustado\n",
    "model.__dict__\n",
    "model2.__dict__\n",
    "model3.__dict__"
   ]
  },
  {
   "cell_type": "code",
   "execution_count": null,
   "metadata": {},
   "outputs": [],
   "source": [
    "#Evaluamos la eficiencia del modelo obtenido por medio del coeficiente R Determinación\n",
    "model.score(Vars_Indep,Var_Dep)"
   ]
  },
  {
   "cell_type": "code",
   "execution_count": null,
   "metadata": {},
   "outputs": [],
   "source": [
    "#Evaluamos la eficiencia del modelo obtenido por medio del coeficiente R Determinación\n",
    "model2.score(Vars_Indep2,Var_Dep2)"
   ]
  },
  {
   "cell_type": "code",
   "execution_count": null,
   "metadata": {},
   "outputs": [],
   "source": [
    "model3.score(Vars_Indep3,Var_Dep3)"
   ]
  },
  {
   "cell_type": "code",
   "execution_count": null,
   "metadata": {},
   "outputs": [],
   "source": [
    "#Predecimos los valores de total de accidentes a partir de las variables\n",
    "y_pred= model.predict(X=numcol_clean[['bedrooms']])\n",
    "y_pred\n",
    "\n",
    "y_pred2=model2.predict(X=numcol_clean[['maximum_nights']])\n",
    "y_pred2\n",
    "\n",
    "y_pred3=model3.predict(X=numcol_clean[['review_scores_rating']])\n",
    "y_pred3"
   ]
  },
  {
   "cell_type": "code",
   "execution_count": null,
   "metadata": {},
   "outputs": [],
   "source": [
    "#Insertamos la columna de predicciones en el DataFrame\n",
    "numcol_clean.insert(0, 'Predicciones', y_pred)\n",
    "#numcol_clean"
   ]
  },
  {
   "cell_type": "code",
   "execution_count": null,
   "metadata": {},
   "outputs": [],
   "source": [
    "#Visualizamos la gráfica comparativa entre el total real y el total predecido\n",
    "\n",
    "sns.scatterplot(x='bedrooms', y='price', color=\"blue\", data=numcol_clean)\n",
    "sns.scatterplot(x='bedrooms', y='Predicciones', color=\"red\", data=numcol_clean)"
   ]
  },
  {
   "cell_type": "code",
   "execution_count": null,
   "metadata": {},
   "outputs": [],
   "source": [
    "sns.scatterplot(x='maximum_nights', y='price', color=\"blue\", data=numcol_clean)\n",
    "sns.scatterplot(x='maximum_nights', y='Predicciones', color=\"red\", data=numcol_clean)"
   ]
  },
  {
   "cell_type": "code",
   "execution_count": null,
   "metadata": {},
   "outputs": [],
   "source": [
    "#Visualizamos la gráfica comparativa entre el total real y el total predecido\n",
    "\n",
    "sns.scatterplot(x='review_scores_rating', y='price', color=\"blue\", data=numcol_clean)\n",
    "sns.scatterplot(x='review_scores_rating', y='Predicciones', color=\"red\", data=numcol_clean)"
   ]
  },
  {
   "cell_type": "code",
   "execution_count": null,
   "metadata": {},
   "outputs": [],
   "source": [
    "#Corroboramos cual es el coeficiente de Determinación de nuestro modelo\n",
    "coef_Deter=model.score(X=Vars_Indep, y=Var_Dep)\n",
    "coef_Deter\n",
    "coef_Deter2=model2.score(X=Vars_Indep2, y=Var_Dep2)\n",
    "coef_Deter2\n",
    "coef_Deter3=model3.score(X=Vars_Indep3, y=Var_Dep3)\n",
    "coef_Deter3"
   ]
  },
  {
   "cell_type": "code",
   "execution_count": null,
   "metadata": {},
   "outputs": [],
   "source": [
    "#Corroboramos cual es el coeficiente de Correlación de nuestro modelo\n",
    "coef_Correl=np.sqrt(coef_Deter)\n",
    "coef_Correl\n",
    "coef_Correl2=np.sqrt(coef_Deter2)\n",
    "coef_Correl2\n",
    "coef_Correl3=np.sqrt(coef_Deter3)\n",
    "coef_Correl3"
   ]
  },
  {
   "cell_type": "code",
   "execution_count": null,
   "metadata": {},
   "outputs": [],
   "source": [
    "#Graficamos todas las dispersiones entre todas las variables\n",
    "#sns.pairplot(df)\n",
    "#Saltamos esta funcion por el tiempo que tarda en ejecutarse "
   ]
  },
  {
   "cell_type": "code",
   "execution_count": null,
   "metadata": {},
   "outputs": [],
   "source": [
    "#Encontramos todas las correlaciones entre las variables \n",
    "Corr_Factors=numcol_clean.corr()\n",
    "Corr_Factors"
   ]
  },
  {
   "cell_type": "code",
   "execution_count": null,
   "metadata": {},
   "outputs": [],
   "source": [
    "#Encontramos el valor absoluto de todas las correlaciones entre las variables \n",
    "Corr_Factors1= abs(Corr_Factors)\n",
    "Corr_Factors1"
   ]
  },
  {
   "cell_type": "code",
   "execution_count": null,
   "metadata": {},
   "outputs": [],
   "source": [
    "#Graficamos el mapa de calor de los coeficientes de correlación \n",
    "Heat_Map= sns.heatmap(Corr_Factors1, cmap = 'coolwarm')  \n",
    "Heat_Map"
   ]
  },
  {
   "cell_type": "code",
   "execution_count": null,
   "metadata": {},
   "outputs": [],
   "source": [
    "#Ajustamos el mapa de calor de los coeficientes de correlación \n",
    "Heat_Map= sns.heatmap(Corr_Factors1, cmap = 'Oranges', annot=True, fmt=\".2f\")  \n",
    "Heat_Map"
   ]
  },
  {
   "cell_type": "code",
   "execution_count": null,
   "metadata": {},
   "outputs": [],
   "source": [
    "numcol_clean.dtypes"
   ]
  },
  {
   "cell_type": "code",
   "execution_count": null,
   "metadata": {},
   "outputs": [],
   "source": [
    "# Graficar múltiples scatterplots en una sola gráfica\n",
    "sns.scatterplot(x='bedrooms', y='price', color=\"blue\", label='Bedrooms', data=numcol_clean)\n",
    "sns.scatterplot(x='maximum_nights', y='price', color=\"red\", label='Maximum Nights', data=numcol_clean)\n",
    "sns.scatterplot(x='review_scores_rating', y='price', color=\"yellow\", label='Review Scores', data=numcol_clean)\n",
    "sns.scatterplot(x='bathrooms', y='price', color=\"orchid\", label='Bathrooms', data=numcol_clean)\n",
    "sns.scatterplot(x='accommodates', y='price', color=\"gray\", label='Accommodates', data=numcol_clean)\n",
    "\n",
    "# Mostrar la leyenda para identificar las series\n",
    "plt.legend()"
   ]
  },
  {
   "cell_type": "code",
   "execution_count": null,
   "metadata": {},
   "outputs": [],
   "source": [
    "# Graficar múltiples scatterplots en una sola gráfica\n",
    "sns.scatterplot(x='bedrooms', y='price', color=\"blue\", label='Bedrooms', data=numcol_clean)\n",
    "plt.show()\n",
    "sns.scatterplot(x='maximum_nights', y='price', color=\"red\", label='Maximum Nights', data=numcol_clean)\n",
    "plt.show()\n",
    "sns.scatterplot(x='review_scores_rating', y='price', color=\"yellow\", label='Review Scores', data=numcol_clean)\n",
    "plt.show()\n",
    "sns.scatterplot(x='bathrooms', y='price', color=\"orchid\", label='Bathrooms', data=numcol_clean)\n",
    "plt.show()\n",
    "sns.scatterplot(x='accommodates', y='price', color=\"gray\", label='Accommodates', data=numcol_clean)\n",
    "plt.show()"
   ]
  },
  {
   "cell_type": "code",
   "execution_count": null,
   "metadata": {},
   "outputs": [],
   "source": [
    "Vars_Indepm= numcol_clean[['bedrooms','maximum_nights','review_scores_rating','bathrooms','accommodates']]\n",
    "Var_Depm= numcol_clean['price']"
   ]
  },
  {
   "cell_type": "code",
   "execution_count": null,
   "metadata": {},
   "outputs": [],
   "source": [
    "modelm= LinearRegression()"
   ]
  },
  {
   "cell_type": "code",
   "execution_count": null,
   "metadata": {},
   "outputs": [],
   "source": [
    "#Verificamos la función relacionada al modelo\n",
    "type(modelm)"
   ]
  },
  {
   "cell_type": "code",
   "execution_count": null,
   "metadata": {},
   "outputs": [],
   "source": [
    "#Ajustamos el modelo con las variables antes declaradas\n",
    "modelm.fit(X=Vars_Indepm, y=Var_Depm)"
   ]
  },
  {
   "cell_type": "code",
   "execution_count": null,
   "metadata": {},
   "outputs": [],
   "source": [
    "#Verificamos los coeficientes obtenidos para el modelo ajustado\n",
    "modelm.__dict__"
   ]
  },
  {
   "cell_type": "code",
   "execution_count": null,
   "metadata": {},
   "outputs": [],
   "source": [
    "#Evaluamos la eficiencia del modelo obtenido por medio del coeficiente R Determinación\n",
    "modelm.score(Vars_Indepm,Var_Depm)"
   ]
  },
  {
   "cell_type": "code",
   "execution_count": null,
   "metadata": {},
   "outputs": [],
   "source": [
    "y_predm= modelm.predict(X=numcol_clean[['bedrooms','maximum_nights','review_scores_rating','bathrooms','accommodates']])\n",
    "y_predm"
   ]
  },
  {
   "cell_type": "code",
   "execution_count": null,
   "metadata": {},
   "outputs": [],
   "source": [
    "numcol_clean.insert(0, 'Predicciones', y_predm)"
   ]
  },
  {
   "cell_type": "code",
   "execution_count": null,
   "metadata": {},
   "outputs": [],
   "source": [
    "# Crear un gráfico de dispersión para cada variable predictora\n",
    "for column in ['bedrooms', 'maximum_nights', 'review_scores_rating', 'bathrooms', 'accommodates']:\n",
    "    plt.figure(figsize=(8, 6))\n",
    "    \n",
    "    # Gráfico de los valores reales\n",
    "    sns.scatterplot(x=column, y='price', data=numcol_clean, color=\"blue\", label='Precio Real')\n",
    "    \n",
    "    # Gráfico de las predicciones\n",
    "    sns.scatterplot(x=column, y='Predicciones', data=numcol_clean, color=\"red\", label='Precio Predicho')\n",
    "    \n",
    "    # Añadir título y leyenda\n",
    "    plt.title(f'Comparación entre {column} y Precio')\n",
    "    plt.legend()\n",
    "    \n",
    "    # Mostrar la gráfica\n",
    "    plt.show()"
   ]
  },
  {
   "cell_type": "code",
   "execution_count": null,
   "metadata": {},
   "outputs": [],
   "source": [
    "#Corroboramos cual es el coeficiente de Determinación de nuestro modelo\n",
    "coef_Determ=modelm.score(X=Vars_Indepm, y=Var_Depm)\n",
    "coef_Determ"
   ]
  },
  {
   "cell_type": "code",
   "execution_count": null,
   "metadata": {},
   "outputs": [],
   "source": [
    "#Corroboramos cual es el coeficiente de Correlación de nuestro modelo\n",
    "coef_Correlm=np.sqrt(coef_Determ)\n",
    "coef_Correlm"
   ]
  },
  {
   "cell_type": "code",
   "execution_count": null,
   "metadata": {},
   "outputs": [],
   "source": [
    "# Unimos los otros data frame para ver que esten limpios\n",
    "\n",
    "dfa_limpio = pd.concat([numcol_clean,numcol,catcol], axis=1)\n",
    "dfa_limpio.head(3)"
   ]
  },
  {
   "cell_type": "markdown",
   "metadata": {},
   "source": [
    "**Porto**"
   ]
  },
  {
   "cell_type": "code",
   "execution_count": null,
   "metadata": {},
   "outputs": [],
   "source": [
    "#Imprimimos el scatter plot entre la variable dependiente e independiente\n",
    "#para observar el comportamiento en su dispersión \n",
    "sns.scatterplot(x='bedrooms', y='price', color=\"blue\", data=pnumcol_clean)\n"
   ]
  },
  {
   "cell_type": "code",
   "execution_count": null,
   "metadata": {},
   "outputs": [],
   "source": [
    "sns.scatterplot(x='maximum_nights', y='price', color=\"blue\", data=pnumcol_clean)"
   ]
  },
  {
   "cell_type": "code",
   "execution_count": null,
   "metadata": {},
   "outputs": [],
   "source": [
    "sns.scatterplot(x='review_scores_rating', y='price', color=\"blue\", data=pnumcol_clean)"
   ]
  },
  {
   "cell_type": "code",
   "execution_count": null,
   "metadata": {},
   "outputs": [],
   "source": [
    "#Declaramos las variables dependientes e independientes para la regresión lineal\n",
    "Vars_Indepp= pnumcol_clean[['bedrooms']]\n",
    "Var_Depp= pnumcol_clean['price']"
   ]
  },
  {
   "cell_type": "code",
   "execution_count": null,
   "metadata": {},
   "outputs": [],
   "source": [
    "#Declaramos las variables dependientes e independientes para la regresión lineal\n",
    "Vars_Indep2p =pnumcol_clean[['maximum_nights']]\n",
    "Var_Dep2p= pnumcol_clean['price']"
   ]
  },
  {
   "cell_type": "code",
   "execution_count": null,
   "metadata": {},
   "outputs": [],
   "source": [
    "#Declaramos las variables dependientes e independientes para la regresión lineal\n",
    "Vars_Indep3p= pnumcol_clean[['review_scores_rating']]\n",
    "Var_Dep3p= pnumcol_clean['price']"
   ]
  },
  {
   "cell_type": "code",
   "execution_count": null,
   "metadata": {},
   "outputs": [],
   "source": [
    "#Se define model como la función de regresión lineal\n",
    "from sklearn.linear_model import LinearRegression\n",
    "modelp= LinearRegression()\n",
    "model2p = LinearRegression()\n",
    "model3p = LinearRegression()"
   ]
  },
  {
   "cell_type": "code",
   "execution_count": null,
   "metadata": {},
   "outputs": [],
   "source": [
    "#Verificamos la función relacionada al modelo\n",
    "type(modelp)\n",
    "type(model2p)\n",
    "type(model3p)"
   ]
  },
  {
   "cell_type": "code",
   "execution_count": null,
   "metadata": {},
   "outputs": [],
   "source": [
    "#Ajustamos el modelo con las variables antes declaradas\n",
    "modelp.fit(X=Vars_Indepp, y=Var_Depp)"
   ]
  },
  {
   "cell_type": "code",
   "execution_count": null,
   "metadata": {},
   "outputs": [],
   "source": [
    "#Ajustamos el modelo con las variables antes declaradas\n",
    "model2p.fit(X=Vars_Indep2p, y=Var_Dep2p)"
   ]
  },
  {
   "cell_type": "code",
   "execution_count": null,
   "metadata": {},
   "outputs": [],
   "source": [
    "#Ajustamos el modelo con las variables antes declaradas\n",
    "model3p.fit(X=Vars_Indep3p, y=Var_Dep3p)"
   ]
  },
  {
   "cell_type": "code",
   "execution_count": null,
   "metadata": {},
   "outputs": [],
   "source": [
    "#Verificamos los coeficientes obtenidos para el modelo ajustado\n",
    "modelp.__dict__\n",
    "model2p.__dict__\n",
    "model3p.__dict__"
   ]
  },
  {
   "cell_type": "code",
   "execution_count": null,
   "metadata": {},
   "outputs": [],
   "source": [
    "#Evaluamos la eficiencia del modelo obtenido por medio del coeficiente R Determinación\n",
    "modelp.score(Vars_Indepp,Var_Depp)"
   ]
  },
  {
   "cell_type": "code",
   "execution_count": null,
   "metadata": {},
   "outputs": [],
   "source": [
    "#Evaluamos la eficiencia del modelo obtenido por medio del coeficiente R Determinación\n",
    "model2p.score(Vars_Indep2p,Var_Dep2p)"
   ]
  },
  {
   "cell_type": "code",
   "execution_count": null,
   "metadata": {},
   "outputs": [],
   "source": [
    "model3p.score(Vars_Indep3p,Var_Dep3p)"
   ]
  },
  {
   "cell_type": "code",
   "execution_count": null,
   "metadata": {},
   "outputs": [],
   "source": [
    "#Declaramos las variables dependientes e independientes para la regresión lineal\n",
    "Vars_Indep3p= numcol_clean[['review_scores_rating']]\n",
    "Var_Dep3p= numcol_clean['price']"
   ]
  },
  {
   "cell_type": "code",
   "execution_count": null,
   "metadata": {},
   "outputs": [],
   "source": [
    "#Predecimos los valores de total de accidentes a partir de las variables\n",
    "y_predp= modelp.predict(X=pnumcol_clean[['bedrooms']])\n",
    "y_predp\n",
    "\n",
    "y_pred2p=model2p.predict(X=pnumcol_clean[['maximum_nights']])\n",
    "y_pred2p\n",
    "\n",
    "y_pred3p=model3.predict(X=pnumcol_clean[['review_scores_rating']])\n",
    "y_pred3p"
   ]
  },
  {
   "cell_type": "code",
   "execution_count": null,
   "metadata": {},
   "outputs": [],
   "source": [
    "#Insertamos la columna de predicciones en el DataFrame\n",
    "pnumcol_clean.insert(0, 'Predicciones', y_predp)\n",
    "#numcol_clean"
   ]
  },
  {
   "cell_type": "code",
   "execution_count": null,
   "metadata": {},
   "outputs": [],
   "source": [
    "#Visualizamos la gráfica comparativa entre el total real y el total predecido\n",
    "\n",
    "sns.scatterplot(x='bedrooms', y='price', color=\"blue\", data=pnumcol_clean)\n",
    "sns.scatterplot(x='bedrooms', y='Predicciones', color=\"red\", data=pnumcol_clean)"
   ]
  },
  {
   "cell_type": "code",
   "execution_count": null,
   "metadata": {},
   "outputs": [],
   "source": [
    "sns.scatterplot(x='maximum_nights', y='price', color=\"blue\", data=pnumcol_clean)\n",
    "sns.scatterplot(x='maximum_nights', y='Predicciones', color=\"red\", data=pnumcol_clean)"
   ]
  },
  {
   "cell_type": "code",
   "execution_count": null,
   "metadata": {},
   "outputs": [],
   "source": [
    "#Visualizamos la gráfica comparativa entre el total real y el total predecido\n",
    "\n",
    "sns.scatterplot(x='review_scores_rating', y='price', color=\"blue\", data=pnumcol_clean)\n",
    "sns.scatterplot(x='review_scores_rating', y='Predicciones', color=\"red\", data=pnumcol_clean)"
   ]
  },
  {
   "cell_type": "code",
   "execution_count": null,
   "metadata": {},
   "outputs": [],
   "source": [
    "#Corroboramos cual es el coeficiente de Determinación de nuestro modelo\n",
    "coef_Deterp=modelp.score(X=Vars_Indepp, y=Var_Depp)\n",
    "coef_Deterp\n",
    "coef_Deter2p=model2p.score(X=Vars_Indep2p, y=Var_Dep2p)\n",
    "coef_Deter2p\n",
    "coef_Deter3p=model3p.score(X=Vars_Indep3p, y=Var_Dep3p)\n",
    "coef_Deter3p"
   ]
  },
  {
   "cell_type": "code",
   "execution_count": null,
   "metadata": {},
   "outputs": [],
   "source": [
    "#Corroboramos cual es el coeficiente de Correlación de nuestro modelo\n",
    "coef_Correlp=np.sqrt(coef_Deterp)\n",
    "coef_Correlp\n",
    "coef_Correl2p=np.sqrt(coef_Deter2p)\n",
    "coef_Correl2p\n",
    "coef_Correl3p=np.sqrt(coef_Deter3p)\n",
    "coef_Correl3p"
   ]
  },
  {
   "cell_type": "code",
   "execution_count": null,
   "metadata": {},
   "outputs": [],
   "source": [
    "#Graficamos todas las dispersiones entre todas las variables\n",
    "#sns.pairplot(df)\n",
    "#Saltamos esta funcion por el tiempo que tarda en ejecutarse "
   ]
  },
  {
   "cell_type": "code",
   "execution_count": null,
   "metadata": {},
   "outputs": [],
   "source": [
    "#Encontramos todas las correlaciones entre las variables \n",
    "Corr_Factorsp=pnumcol_clean.corr()\n",
    "Corr_Factorsp"
   ]
  },
  {
   "cell_type": "code",
   "execution_count": null,
   "metadata": {},
   "outputs": [],
   "source": [
    "#Encontramos el valor absoluto de todas las correlaciones entre las variables \n",
    "Corr_Factors1p= abs(Corr_Factorsp)\n",
    "Corr_Factors1p"
   ]
  },
  {
   "cell_type": "code",
   "execution_count": null,
   "metadata": {},
   "outputs": [],
   "source": [
    "#Graficamos el mapa de calor de los coeficientes de correlación \n",
    "Heat_Mapp= sns.heatmap(Corr_Factors1p, cmap = 'coolwarm')  \n",
    "Heat_Mapp"
   ]
  },
  {
   "cell_type": "code",
   "execution_count": null,
   "metadata": {},
   "outputs": [],
   "source": [
    "#Ajustamos el mapa de calor de los coeficientes de correlación \n",
    "Heat_Mapp= sns.heatmap(Corr_Factors1p, cmap = 'Oranges', annot=True, fmt=\".2f\")  \n",
    "Heat_Mapp"
   ]
  },
  {
   "cell_type": "code",
   "execution_count": null,
   "metadata": {},
   "outputs": [],
   "source": [
    "pnumcol_clean.dtypes"
   ]
  },
  {
   "cell_type": "code",
   "execution_count": null,
   "metadata": {},
   "outputs": [],
   "source": [
    "# Graficar múltiples scatterplots en una sola gráfica\n",
    "sns.scatterplot(x='bedrooms', y='price', color=\"blue\", label='Bedrooms', data=pnumcol_clean)\n",
    "sns.scatterplot(x='maximum_nights', y='price', color=\"red\", label='Maximum Nights', data=pnumcol_clean)\n",
    "sns.scatterplot(x='review_scores_rating', y='price', color=\"yellow\", label='Review Scores', data=pnumcol_clean)\n",
    "sns.scatterplot(x='bathrooms', y='price', color=\"orchid\", label='Bathrooms', data=pnumcol_clean)\n",
    "sns.scatterplot(x='accommodates', y='price', color=\"gray\", label='Accommodates', data=pnumcol_clean)\n",
    "\n",
    "# Mostrar la leyenda para identificar las series\n",
    "plt.legend()"
   ]
  },
  {
   "cell_type": "code",
   "execution_count": null,
   "metadata": {},
   "outputs": [],
   "source": [
    "# Graficar múltiples scatterplots en una sola gráfica\n",
    "sns.scatterplot(x='bedrooms', y='price', color=\"blue\", label='Bedrooms', data=pnumcol_clean)\n",
    "plt.show()\n",
    "sns.scatterplot(x='maximum_nights', y='price', color=\"red\", label='Maximum Nights', data=pnumcol_clean)\n",
    "plt.show()\n",
    "sns.scatterplot(x='review_scores_rating', y='price', color=\"yellow\", label='Review Scores', data=pnumcol_clean)\n",
    "plt.show()\n",
    "sns.scatterplot(x='bathrooms', y='price', color=\"orchid\", label='Bathrooms', data=pnumcol_clean)\n",
    "plt.show()\n",
    "sns.scatterplot(x='accommodates', y='price', color=\"gray\", label='Accommodates', data=pnumcol_clean)\n",
    "plt.show()"
   ]
  },
  {
   "cell_type": "code",
   "execution_count": null,
   "metadata": {},
   "outputs": [],
   "source": [
    "Vars_Indepmp= pnumcol_clean[['bedrooms','maximum_nights','review_scores_rating','bathrooms','accommodates']]\n",
    "Var_Depmp= pnumcol_clean['price']"
   ]
  },
  {
   "cell_type": "code",
   "execution_count": null,
   "metadata": {},
   "outputs": [],
   "source": [
    "modelmp= LinearRegression()"
   ]
  },
  {
   "cell_type": "code",
   "execution_count": null,
   "metadata": {},
   "outputs": [],
   "source": [
    "#Verificamos la función relacionada al modelo\n",
    "type(modelmp)"
   ]
  },
  {
   "cell_type": "code",
   "execution_count": null,
   "metadata": {},
   "outputs": [],
   "source": [
    "#Ajustamos el modelo con las variables antes declaradas\n",
    "modelmp.fit(X=Vars_Indepmp, y=Var_Depmp)"
   ]
  },
  {
   "cell_type": "code",
   "execution_count": null,
   "metadata": {},
   "outputs": [],
   "source": [
    "#Verificamos los coeficientes obtenidos para el modelo ajustado\n",
    "modelmp.__dict__"
   ]
  },
  {
   "cell_type": "code",
   "execution_count": null,
   "metadata": {},
   "outputs": [],
   "source": [
    "#Evaluamos la eficiencia del modelo obtenido por medio del coeficiente R Determinación\n",
    "modelmp.score(Vars_Indepmp,Var_Depmp)"
   ]
  },
  {
   "cell_type": "code",
   "execution_count": null,
   "metadata": {},
   "outputs": [],
   "source": [
    "y_predmp= modelmp.predict(X=pnumcol_clean[['bedrooms','maximum_nights','review_scores_rating','bathrooms','accommodates']])\n",
    "y_predmp"
   ]
  },
  {
   "cell_type": "code",
   "execution_count": null,
   "metadata": {},
   "outputs": [],
   "source": [
    "pnumcol_clean.insert(0, 'Predicciones', y_predmp)"
   ]
  },
  {
   "cell_type": "code",
   "execution_count": null,
   "metadata": {},
   "outputs": [],
   "source": [
    "# Crear un gráfico de dispersión para cada variable predictora\n",
    "for column in ['bedrooms', 'maximum_nights', 'review_scores_rating', 'bathrooms', 'accommodates']:\n",
    "    plt.figure(figsize=(8, 6))\n",
    "    \n",
    "    # Gráfico de los valores reales\n",
    "    sns.scatterplot(x=column, y='price', data=pnumcol_clean, color=\"blue\", label='Precio Real')\n",
    "    \n",
    "    # Gráfico de las predicciones\n",
    "    sns.scatterplot(x=column, y='Predicciones', data=pnumcol_clean, color=\"red\", label='Precio Predicho')\n",
    "    \n",
    "    # Añadir título y leyenda\n",
    "    plt.title(f'Comparación entre {column} y Precio')\n",
    "    plt.legend()\n",
    "    \n",
    "    # Mostrar la gráfica\n",
    "    plt.show()"
   ]
  },
  {
   "cell_type": "code",
   "execution_count": null,
   "metadata": {},
   "outputs": [],
   "source": [
    "#Corroboramos cual es el coeficiente de Determinación de nuestro modelo\n",
    "coef_Determp=modelmp.score(X=Vars_Indepmp, y=Var_Depmp)\n",
    "coef_Determp"
   ]
  },
  {
   "cell_type": "code",
   "execution_count": null,
   "metadata": {},
   "outputs": [],
   "source": [
    "#Corroboramos cual es el coeficiente de Correlación de nuestro modelo\n",
    "coef_Correlmp=np.sqrt(coef_Determp)\n",
    "coef_Correlmp"
   ]
  },
  {
   "cell_type": "code",
   "execution_count": null,
   "metadata": {},
   "outputs": [],
   "source": [
    "# Unimos los otros data frame para ver que esten limpios\n",
    "\n",
    "dfp_limpiop = pd.concat([pnumcol_clean,numcolp,catcolp], axis=1)\n",
    "dfp_limpiop.head(3)"
   ]
  },
  {
   "cell_type": "markdown",
   "metadata": {},
   "source": [
    "***Convertimos a CSV los datos limpios***"
   ]
  },
  {
   "cell_type": "code",
   "execution_count": null,
   "metadata": {},
   "outputs": [],
   "source": [
    "dfp_limpio.to_csv(\"Porto_limpio.csv\")"
   ]
  },
  {
   "cell_type": "code",
   "execution_count": null,
   "metadata": {},
   "outputs": [],
   "source": [
    "dfa_limpio.to_csv(\"Amsterdam Limpio.csv\")"
   ]
  }
 ],
 "metadata": {
  "kernelspec": {
   "display_name": "Python 3",
   "language": "python",
   "name": "python3"
  },
  "language_info": {
   "codemirror_mode": {
    "name": "ipython",
    "version": 3
   },
   "file_extension": ".py",
   "mimetype": "text/x-python",
   "name": "python",
   "nbconvert_exporter": "python",
   "pygments_lexer": "ipython3",
   "version": "3.12.4"
  }
 },
 "nbformat": 4,
 "nbformat_minor": 2
}
